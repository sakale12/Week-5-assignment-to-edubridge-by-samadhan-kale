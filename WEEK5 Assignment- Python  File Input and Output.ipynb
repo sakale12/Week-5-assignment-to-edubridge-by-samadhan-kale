{
 "cells": [
  {
   "cell_type": "markdown",
   "id": "8ab1612f",
   "metadata": {},
   "source": [
    "## WEEK5 Assignment- Python  File Input and Output"
   ]
  },
  {
   "cell_type": "markdown",
   "id": "03f2d3d6",
   "metadata": {},
   "source": [
    "```\n",
    "Q.1 Problem Statements:\n",
    "Create a python program for taking user notes in text file. When a user starts it up, it should prompt them for a filename.\n",
    "If they enter a file name that doesn't exist, it should prompt them to enter the text they want to write to the file.\n",
    "After they enter the text, it should save the file and exit.If they enter a file name that already exists, \n",
    "it should ask the user if they want:\n",
    "A) Read the file\n",
    "B) Append the file\n",
    "C) Delete the file and start over\n",
    "\n",
    "If the user wants to read the file it should simply show the contents of the file on the screen.\n",
    "If the user wants to start over then the file should be deleted and another empty one made in its place.\n",
    "If a user elects to append the file, then they should be able to enter more text, \n",
    "and that text should be added to the existing text in the file.\n",
    "\n",
    "Note:\n",
    "    The software Development Team created partial python code for the above problem statement, you try to help them to complete the code wherever required and produce successful output \n",
    "```"
   ]
  },
  {
   "cell_type": "code",
   "execution_count": 15,
   "id": "abb6eca2",
   "metadata": {},
   "outputs": [
    {
     "name": "stdout",
     "output_type": "stream",
     "text": [
      "Enter The File Namemsg.txt\n",
      "Looking for file:msg.txt\n",
      "Found it\n",
      "Enter the possible file operation: read, append, delete, replace\n",
      "read\n",
      "The content of the file:\n",
      "hi,welcome to file handling in python programming.samadhan kale\n",
      "\n"
     ]
    }
   ],
   "source": [
    "import os\n",
    "filename=input(\"Enter The File Name\")\n",
    "# Here we check if the file exists\n",
    "if os.path.isfile('./'+filename):\n",
    "    print(f\"Looking for file:{filename}\")\n",
    "    print(\"Found it\")\n",
    "    action = input(\"Enter the possible file operation: read, append, delete, replace\\n\")\n",
    "    if action==\"read\":\n",
    "        \"\"\"To Do : write the code for file read operation\"\"\"\n",
    "        print(\"The content of the file:\")\n",
    "        with open(filename, \"r\") as read_file:\n",
    "            print(read_file.read())\n",
    "       \n",
    "    elif action==\"append\":\n",
    "        \"\"\"To Do : write the code for file append operation\"\"\"\n",
    "        text = input(\"Please enter your note: \")\n",
    "        with open(filename, \"a\") as append_file:\n",
    "            append_file.write(text + \"\\n\")\n",
    "        \n",
    "        \n",
    "    elif action == \"delete\":\n",
    "        \"\"\"To Do : write the code for file dalete and another empty one made in its place operation\"\"\"\n",
    "        os.remove(\"./\" + filename)\n",
    "        print(\"{} have been deleted.\".format(filename))\n",
    "        with open(filename, \"w\") as write_file:\n",
    "            write_file.write(\"\")\n",
    "        \n",
    "        \n",
    "    else:\n",
    "        print(\"Sorry, unrecognized action 😢\")\n",
    "else:\n",
    "    print(\"Nope, this file does not exist, I'm going to create it for you! 😄\")\n",
    "    \"\"\"To Do : write the code for file create and write the notes \"\"\"\n",
    "    text = input(\"Please enter your note: \")\n",
    "    with open(filename, \"w\") as write_file:\n",
    "        write_file.write(text + \"\\n\")"
   ]
  },
  {
   "cell_type": "code",
   "execution_count": 16,
   "id": "c5f9d2c0",
   "metadata": {
    "scrolled": true
   },
   "outputs": [
    {
     "name": "stdout",
     "output_type": "stream",
     "text": [
      "Please enter the filename: msg.txt\n",
      "Looking for file msg.txt...\n",
      "Found it!\n",
      "What would you like to do with the file?\n",
      "Possible actions are: read, delete, append, replace\n",
      "append\n",
      "Please enter your note: thank you\n"
     ]
    }
   ],
   "source": [
    "import os\n",
    "\n",
    "filename = input(\"Please enter the filename: \")\n",
    "# Here we check if the file exists\n",
    "if os.path.isfile(\"./\" + filename):\n",
    "    print(\"Looking for file {}...\".format(filename))\n",
    "    print(\"Found it!\")\n",
    "    action = input(\n",
    "        \"What would you like to do with the file?\\nPossible actions are: read, delete, append, replace\\n\")\n",
    "    if action == \"read\":\n",
    "        print(\"The content of the file:\")\n",
    "        with open(filename, \"r\") as read_file:\n",
    "            print(read_file.read())\n",
    "    elif action == \"append\":\n",
    "        text = input(\"Please enter your note: \")\n",
    "        with open(filename, \"a\") as append_file:\n",
    "            append_file.write(text + \"\\n\")\n",
    "    elif action == \"delete\":\n",
    "        os.remove(\"./\" + filename)\n",
    "        print(\"{} have been deleted.\".format(filename))\n",
    "        # I don't think it makes sense to create a new empty file right after deletion...\n",
    "        # Anyway, this is the requested task so here it is\n",
    "        with open(filename, \"w\") as write_file:\n",
    "            write_file.write(\"\")\n",
    "    elif action == \"replace\":\n",
    "        line_num = int(\n",
    "            input(\"Please enter the line number for the replacement: \"))\n",
    "        text = input(\"Please enter your note: \")\n",
    "        with open(filename, \"r\") as read_file:\n",
    "            lines = read_file.readlines()\n",
    "        with open(filename, \"w\") as write_file:\n",
    "            for idx, line in enumerate(lines):\n",
    "                # print(idx, line)\n",
    "                if idx == line_num - 1:\n",
    "                    print(\"Line num {} needs to be replaced!\".format(line_num))\n",
    "                    write_file.write(text + \"\\n\")\n",
    "                else:\n",
    "                    print(\"Writing \\\"{}\\\"\".format(line))\n",
    "                    write_file.write(line)\n",
    "\n",
    "    else:\n",
    "        print(\"Sorry, unrecognized action 😢\")\n",
    "else:\n",
    "    print(\"Nope, this file does not exist, I'm going to create it for you! 😄\")\n",
    "    text = input(\"Please enter your note: \")\n",
    "    with open(filename, \"w\") as write_file:\n",
    "        write_file.write(text + \"\\n\")"
   ]
  },
  {
   "cell_type": "markdown",
   "id": "91738097",
   "metadata": {},
   "source": [
    "```\n",
    "Q2.Text File Analytics:\n",
    "Q2.1 Assume you as Data Analyst, you need to collect all text file name from current working directory and store the all text file name into \n",
    "    \"txtfile_namelist.txt\" and read this file and print How many files are available in that namelist.\n",
    "```"
   ]
  },
  {
   "cell_type": "code",
   "execution_count": 14,
   "id": "394cb445",
   "metadata": {},
   "outputs": [
    {
     "name": "stdout",
     "output_type": "stream",
     "text": [
      "Number of text Files : 13\n"
     ]
    }
   ],
   "source": [
    "import os\n",
    "count=0\n",
    "with open(\"txtfile_namelist.txt\",\"w+\") as txt_list:\n",
    "    for files in os.listdir():\n",
    "        if files.endswith(\".txt\"):\n",
    "            txt_list.write(files+\"\\n\")\n",
    "            count+=1\n",
    "print(\"Number of text Files :\",count)"
   ]
  },
  {
   "cell_type": "markdown",
   "id": "f2f0d83f",
   "metadata": {},
   "source": [
    "```    \n",
    "Q2.2 write the following contents to zenofpython.txt\n",
    "content:\n",
    "--------------------------------------------------------------\n",
    "The Zen of Python, by Tim Peters\n",
    "Beautiful is better than ugly.\n",
    "Explicit is better than implicit.\n",
    "Simple is better than complex.\n",
    "Complex is better than complicated.\n",
    "Flat is better than nested.\n",
    "Sparse is better than dense.\n",
    "Readability counts.\n",
    "Special cases aren't special enough to break the rules.\n",
    "Although practicality beats purity.\n",
    "Errors should never pass silently.\n",
    "Unless explicitly silenced.\n",
    "In the face of ambiguity, refuse the temptation to guess.\n",
    "There should be one -- and preferably only one -- obvious way to do it.\n",
    "Although that way may not be obvious at first unless you're Dutch.\n",
    "Now is better than never.\n",
    "Although never is often better than right now.\n",
    "If the implementation is hard to explain, it's a bad idea.\n",
    "If the implementation is easy to explain, it may be a good idea.\n",
    "Namespaces are one honking great idea -- let's do more of those!\n",
    "------------------------------------------------------------------\n",
    "an perform the following Operation:\n",
    "1.print number of lines in the zenofpython.txt file\n",
    "2.print number of words in the zenofpython.txt file\n",
    "3.Print how may python keyword present in the zenofpython.txt file\n",
    "4.print the all content in uppercase\n",
    "```"
   ]
  },
  {
   "cell_type": "code",
   "execution_count": 2,
   "id": "ab94b891",
   "metadata": {},
   "outputs": [
    {
     "name": "stdout",
     "output_type": "stream",
     "text": [
      "Number of lines in file : 20\n"
     ]
    }
   ],
   "source": [
    "f = open(\"zenofpython.txt\", \"r\")\n",
    "count=0\n",
    "for i in f:\n",
    "  count+=1\n",
    "print(f\"Number of lines in file : {count}\")"
   ]
  },
  {
   "cell_type": "code",
   "execution_count": 12,
   "id": "60e3c361",
   "metadata": {},
   "outputs": [],
   "source": [
    "import keyword\n",
    "sk = keyword.kwlist\n"
   ]
  },
  {
   "cell_type": "code",
   "execution_count": 13,
   "id": "13e00cbd",
   "metadata": {},
   "outputs": [
    {
     "name": "stdout",
     "output_type": "stream",
     "text": [
      "Number of words in file : 146\n",
      "Number of Keywords : 14\n"
     ]
    }
   ],
   "source": [
    "with open(r'zenofpython.txt','r') as file:\n",
    "    data = file.read()\n",
    "    lines = data.split()\n",
    "    print(\"Number of words in file :\" ,len(lines))\n",
    "    count1=0\n",
    "    for i in lines:\n",
    "        for j in sk:\n",
    "            if i==j:\n",
    "                count1+=1\n",
    "    print(\"Number of Keywords :\",count1)\n",
    "    "
   ]
  },
  {
   "cell_type": "code",
   "execution_count": 5,
   "id": "995b8626",
   "metadata": {},
   "outputs": [
    {
     "name": "stdout",
     "output_type": "stream",
     "text": [
      "THE ZEN OF PYTHON, BY TIM PETERS\n",
      "BEAUTIFUL IS BETTER THAN UGLY.\n",
      "EXPLICIT IS BETTER THAN IMPLICIT.\n",
      "SIMPLE IS BETTER THAN COMPLEX.\n",
      "COMPLEX IS BETTER THAN COMPLICATED.\n",
      "FLAT IS BETTER THAN NESTED.\n",
      "SPARSE IS BETTER THAN DENSE.\n",
      "READABILITY COUNTS.\n",
      "SPECIAL CASES AREN'T SPECIAL ENOUGH TO BREAK THE RULES.\n",
      "ALTHOUGH PRACTICALITY BEATS PURITY.\n",
      "ERRORS SHOULD NEVER PASS SILENTLY.\n",
      "UNLESS EXPLICITLY SILENCED.\n",
      "IN THE FACE OF AMBIGUITY, REFUSE THE TEMPTATION TO GUESS.\n",
      "THERE SHOULD BE ONE -- AND PREFERABLY ONLY ONE -- OBVIOUS WAY TO DO IT.\n",
      "ALTHOUGH THAT WAY MAY NOT BE OBVIOUS AT FIRST UNLESS YOU'RE DUTCH.\n",
      "NOW IS BETTER THAN NEVER.\n",
      "ALTHOUGH NEVER IS OFTEN BETTER THAN RIGHT NOW.\n",
      "IF THE IMPLEMENTATION IS HARD TO EXPLAIN, IT'S A BAD IDEA.\n",
      "IF THE IMPLEMENTATION IS EASY TO EXPLAIN, IT MAY BE A GOOD IDEA.\n",
      "NAMESPACES ARE ONE HONKING GREAT IDEA -- LET'S DO MORE OF THOSE!\n"
     ]
    }
   ],
   "source": [
    "with open(r'zenofpython.txt','r') as file:\n",
    "    data=file.read().upper()\n",
    "    print(data)"
   ]
  }
 ],
 "metadata": {
  "kernelspec": {
   "display_name": "Python 3 (ipykernel)",
   "language": "python",
   "name": "python3"
  },
  "language_info": {
   "codemirror_mode": {
    "name": "ipython",
    "version": 3
   },
   "file_extension": ".py",
   "mimetype": "text/x-python",
   "name": "python",
   "nbconvert_exporter": "python",
   "pygments_lexer": "ipython3",
   "version": "3.9.7"
  }
 },
 "nbformat": 4,
 "nbformat_minor": 5
}
